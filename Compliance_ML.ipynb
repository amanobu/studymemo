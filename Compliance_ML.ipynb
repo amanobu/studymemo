{
 "cells": [
  {
   "cell_type": "markdown",
   "metadata": {
    "collapsed": true
   },
   "source": [
    "# 内容\n",
    "  - 妄想：機械学習によるコンプラ違反予想判定器\n",
    "\n",
    "# 背景\n",
    "  - 機械学習を調べていた\n",
    "  - コンプライアンスの発表の順番が来た\n",
    "  - 機械学習×コンプライアンス\n",
    "    - コンプライアンス違反しそうな人を検知できそうだなぁと妄想してみた\n",
    "    - 本気でやったらプロダクトが作れそうだなぁ\n",
    "\n",
    "# 目的\n",
    "  - コンプライアンスの発表を乗り切る\n",
    "  - 雰囲気を感じてもらう\n",
    "    - あー出来そうだねというのを感じでもらう\n",
    "  - 何かの役に立てば\n",
    "\n",
    "# 機械学習の流れ\n",
    "  - サンプルデータを集め、きれいにする\n",
    "  - モデルを選定\n",
    "  - サンプルデータを学習用データと評価用データに分割\n",
    "  - 学習用データで学習\n",
    "  - 学習後、評価用データで評価\n",
    "    - 答えが分かっているデータに対してどれだけ正答できるか\n",
    "  - 問題なさそうなら実践投入：未知のデータの判定\n",
    "\n",
    "# 妄想サンプルデータ\n",
    "  - こんなデータがとれたとする(細かい事は気にしないでください)\n",
    "    - 何らかの不正をしたかしてないかのフラグ\n",
    "    - 業務に絡む人が少ない\n",
    "    - 残業時間が多め\n",
    "    - 面談ポイントが高い（上司採点のやばいんじゃない？というポイント数）\n",
    "    - ストレス平均が高め\n",
    "    - 退社時間が遅い\n",
    "    - L3,L2のアクセス権があったりする\n"
   ]
  },
  {
   "cell_type": "markdown",
   "metadata": {},
   "source": [
    "# で、実際にコードを動かしてみる\n",
    "## Pythonのscikit-learnというライブラリを使います"
   ]
  },
  {
   "cell_type": "code",
   "execution_count": null,
   "metadata": {
    "collapsed": true
   },
   "outputs": [],
   "source": [
    "#必要なライブラリのロード\n",
    "import pandas as pd\n",
    "import numpy as np\n",
    "%matplotlib inline"
   ]
  },
  {
   "cell_type": "code",
   "execution_count": null,
   "metadata": {
    "collapsed": true
   },
   "outputs": [],
   "source": [
    "#excelファイルからサンプルデータの読込\n",
    "dframe = pd.read_excel('sample.xlsx',sheetname='OUT')"
   ]
  },
  {
   "cell_type": "code",
   "execution_count": null,
   "metadata": {},
   "outputs": [],
   "source": [
    "#読み込んだ内容の表示\n",
    "dframe"
   ]
  },
  {
   "cell_type": "code",
   "execution_count": null,
   "metadata": {
    "collapsed": true
   },
   "outputs": [],
   "source": [
    "#サンプルデータから結果を取り出す\n",
    "y=np.array(dframe['不正有無0/1'])"
   ]
  },
  {
   "cell_type": "code",
   "execution_count": null,
   "metadata": {
    "collapsed": true
   },
   "outputs": [],
   "source": [
    "#サンプルデータからパラメータを取り出す\n",
    "X=np.array(dframe[['面談ポイント★','残業時間平均','ストレスポイント★','金品関わり度合い★','主要業務関連人数','出社平均時間','退社平均時間','L3アクセス権有無','社有携帯登録件数','L2アクセス権有無']])"
   ]
  },
  {
   "cell_type": "markdown",
   "metadata": {},
   "source": [
    "# k近傍法っていうモデルを学習させてみる"
   ]
  },
  {
   "cell_type": "code",
   "execution_count": null,
   "metadata": {
    "collapsed": true
   },
   "outputs": [],
   "source": [
    "from sklearn import neighbors\n",
    "#モデルのインスタンス作成 \n",
    "clf = neighbors.KNeighborsClassifier()"
   ]
  },
  {
   "cell_type": "code",
   "execution_count": null,
   "metadata": {
    "collapsed": true
   },
   "outputs": [],
   "source": [
    "#モデルの学習用のトレーニング用データと、評価用データに分割\n",
    "from sklearn.model_selection import ShuffleSplit\n",
    "ss = ShuffleSplit(train_size=0.8,test_size=0.2,random_state=1)\n",
    "train_index, test_index = next(ss.split(X, y))\n",
    "X_train, X_test = X[train_index], X[test_index]\n",
    "y_train, y_test = y[train_index], y[test_index]"
   ]
  },
  {
   "cell_type": "code",
   "execution_count": null,
   "metadata": {
    "scrolled": true
   },
   "outputs": [],
   "source": [
    "#トレーニングデータで学習\n",
    "clf.fit(X_train, y_train)"
   ]
  },
  {
   "cell_type": "code",
   "execution_count": null,
   "metadata": {
    "scrolled": true
   },
   "outputs": [],
   "source": [
    "#テストデータを食わせる。学習した結果どのぐらいの正答率となるか\n",
    "clf.score(X_test,y_test)"
   ]
  },
  {
   "cell_type": "markdown",
   "metadata": {},
   "source": [
    "# では新しいデータ(人)がコンプラ違反を起こしそうか？という事を判定させてみる"
   ]
  },
  {
   "cell_type": "code",
   "execution_count": null,
   "metadata": {
    "collapsed": true
   },
   "outputs": [],
   "source": [
    "#新しいデータの読み込み\n",
    "dframe_new = pd.read_excel('sample.xlsx',sheetname='NewData')\n",
    "X_new=np.array(dframe_new.values.tolist())"
   ]
  },
  {
   "cell_type": "code",
   "execution_count": null,
   "metadata": {},
   "outputs": [],
   "source": [
    "#読み込んだ内容の表示\n",
    "dframe_new"
   ]
  },
  {
   "cell_type": "code",
   "execution_count": null,
   "metadata": {},
   "outputs": [],
   "source": [
    "#この人が違反しそうか予測してみる　結果：0:セーフ 1:ムムム！？\n",
    "result = clf.predict(X_new)\n",
    "result[0]"
   ]
  },
  {
   "cell_type": "markdown",
   "metadata": {},
   "source": [
    "# 違うモデル:ニューラルネットワークでもやってみる"
   ]
  },
  {
   "cell_type": "code",
   "execution_count": null,
   "metadata": {
    "collapsed": true
   },
   "outputs": [],
   "source": [
    "# modified from https://gist.github.com/craffel/2d727968c3aaebd10359\n",
    "import matplotlib.pyplot as plt\n",
    "def draw_neural_net(layer_sizes, left=.1, right=.9, bottom=.1, top=.9, size=5):\n",
    "    '''\n",
    "    Draw a neural network cartoon using matplotilb.\n",
    "    \n",
    "    :usage:\n",
    "        >>> fig = plt.figure(figsize=(12, 12))\n",
    "        >>> draw_neural_net(fig.gca(), .1, .9, .1, .9, [4, 7, 2])\n",
    "    \n",
    "    :parameters:\n",
    "        - ax : matplotlib.axes.AxesSubplot\n",
    "            The axes on which to plot the cartoon (get e.g. by plt.gca())\n",
    "        - left : float\n",
    "            The center of the leftmost node(s) will be placed here\n",
    "        - right : float\n",
    "            The center of the rightmost node(s) will be placed here\n",
    "        - bottom : float\n",
    "            The center of the bottommost node(s) will be placed here\n",
    "        - top : float\n",
    "            The center of the topmost node(s) will be placed here\n",
    "        - layer_sizes : list of int\n",
    "            List of layer sizes, including input and output dimensionality\n",
    "    '''\n",
    "    fig = plt.figure(figsize=(size, size))\n",
    "    ax = fig.gca()\n",
    "    ax.axis('off')\n",
    "\n",
    "    n_layers = len(layer_sizes)\n",
    "    v_spacing = (top - bottom)/float(max(layer_sizes))\n",
    "    h_spacing = (right - left)/float(len(layer_sizes) - 1)\n",
    "    # Nodes\n",
    "    for n, layer_size in enumerate(layer_sizes):\n",
    "        layer_top = v_spacing*(layer_size - 1)/2. + (top + bottom)/2.\n",
    "        for m in range(layer_size):\n",
    "            circle = plt.Circle((n*h_spacing + left, layer_top - m*v_spacing), v_spacing/4.,\n",
    "                                color='w', ec='k', zorder=4)\n",
    "            ax.add_artist(circle)\n",
    "    # Edges\n",
    "    for n, (layer_size_a, layer_size_b) in enumerate(zip(layer_sizes[:-1], layer_sizes[1:])):\n",
    "        layer_top_a = v_spacing*(layer_size_a - 1)/2. + (top + bottom)/2.\n",
    "        layer_top_b = v_spacing*(layer_size_b - 1)/2. + (top + bottom)/2.\n",
    "        for m in range(layer_size_a):\n",
    "            for o in range(layer_size_b):\n",
    "                line = plt.Line2D([n*h_spacing + left, (n + 1)*h_spacing + left],\n",
    "                                  [layer_top_a - m*v_spacing, layer_top_b - o*v_spacing], c='k')\n",
    "                ax.add_artist(line)"
   ]
  },
  {
   "cell_type": "code",
   "execution_count": null,
   "metadata": {},
   "outputs": [],
   "source": [
    "#こんな感じのネットワーク。層の数、ノードの数は適当です。\n",
    "draw_neural_net((10,5,2,1))\n",
    "draw_neural_net((10,3,8,4,1))\n",
    "draw_neural_net((10,7,3,6,4,1))"
   ]
  },
  {
   "cell_type": "code",
   "execution_count": null,
   "metadata": {
    "scrolled": false
   },
   "outputs": [],
   "source": [
    "from sklearn.neural_network import MLPClassifier\n",
    "#いろいろなネットワークの形状でスコアを試して見る\n",
    "for layers in [(10,5,2,1),\n",
    "               (10,3,8,4,1),\n",
    "               (10,7,3,6,4,1)]:\n",
    "    clf = MLPClassifier(random_state=0)\n",
    "    clf.hidden_layer_sizes = layers\n",
    "    clf.fit(X_train, y_train)\n",
    "    print(\"{0} hidden layers\".format(len(layers)), clf.score(X_test, y_test))"
   ]
  },
  {
   "cell_type": "markdown",
   "metadata": {
    "collapsed": true
   },
   "source": [
    "# という訳で\n",
    "今回は妄想のデータでしたがサンプルデータが取得ができ、不正しそうな**特徴がつかめれば**実現可能かも？\n",
    "- しかし\n",
    "  - 「コンプライアンス 機械学習」で検索してもそんなにヒットしない\n",
    "  - http://itpro.nikkeibp.co.jp/atclact/active/14/368541/032400235/\n",
    "  - 同じ事考えている人はいたが、少なそう\n",
    "  - 人事データから特徴をつかむのは難しいのかもしれない\n",
    "  - または、学習には大量のサンプルが必要だが少ないのかもしれない（不正する人のログって少ないですよね）"
   ]
  },
  {
   "cell_type": "markdown",
   "metadata": {
    "collapsed": true
   },
   "source": [
    "# 完"
   ]
  },
  {
   "cell_type": "code",
   "execution_count": null,
   "metadata": {
    "collapsed": true
   },
   "outputs": [],
   "source": []
  }
 ],
 "metadata": {
  "kernelspec": {
   "display_name": "Python 3",
   "language": "python",
   "name": "python3"
  },
  "language_info": {
   "codemirror_mode": {
    "name": "ipython",
    "version": 3
   },
   "file_extension": ".py",
   "mimetype": "text/x-python",
   "name": "python",
   "nbconvert_exporter": "python",
   "pygments_lexer": "ipython3",
   "version": "3.6.2"
  }
 },
 "nbformat": 4,
 "nbformat_minor": 2
}
