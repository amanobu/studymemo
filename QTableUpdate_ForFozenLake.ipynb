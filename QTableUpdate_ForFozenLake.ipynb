{
 "cells": [
  {
   "cell_type": "markdown",
   "metadata": {},
   "source": [
    "# FrozenLakeのサンプル"
   ]
  },
  {
   "cell_type": "code",
   "execution_count": null,
   "metadata": {},
   "outputs": [],
   "source": [
    "import gym\n",
    "import numpy as np"
   ]
  },
  {
   "cell_type": "code",
   "execution_count": null,
   "metadata": {},
   "outputs": [],
   "source": [
    "#4*4の環境を読み込む。モデルのimport\n",
    "env = gym.make('FrozenLake-v0')"
   ]
  },
  {
   "cell_type": "code",
   "execution_count": null,
   "metadata": {},
   "outputs": [],
   "source": [
    "#Q値を格納するテーブル\n",
    "#env.observation_space.n:行列のsizeを参照\n",
    "#env.action_space.n: 0が←、3が↑とかその値\n",
    "#後ろから順番に更新していく:と解説の人が言っていたが、意味が分からない。STARTから更新している思う\n",
    "Q = np.zeros([env.observation_space.n, env.action_space.n])"
   ]
  },
  {
   "cell_type": "code",
   "execution_count": null,
   "metadata": {},
   "outputs": [],
   "source": [
    "#ラーニングレート\n",
    "lr = 0.8\n",
    "#割引率:いろいろ試していい感じの値らしい\n",
    "y = 0.95\n",
    "#試行回数\n",
    "num_episodes = 2000\n",
    "#報酬一覧\n",
    "rList = []"
   ]
  },
  {
   "cell_type": "code",
   "execution_count": null,
   "metadata": {},
   "outputs": [],
   "source": [
    "for i in range(num_episodes):\n",
    "    #状態の初期化。startの場所って事かな？\n",
    "    s = env.reset()\n",
    "    #報酬の累積和\n",
    "    rAll = 0\n",
    "    #d穴に落ちたかどうか\n",
    "    d = False\n",
    "    #カウンタ\n",
    "    j = 0\n",
    "    \n",
    "    #1回に100ステップ試して見る\n",
    "    while j < 99:\n",
    "        j += 1\n",
    "        #アクションの決定\n",
    "        #argmax一番大きい物を返す。上か下か右か左かが帰ってくる\n",
    "        #乱数を少し乗せて決める：はじめは全て０なので何も決まらなくなってしまう\n",
    "        #Q[s,:] ある状態でのactionごとのQ値\n",
    "        #np.random.randn(1, env.action_space.n) 1:1次元 env.action_space.n:4(アクションの数)\n",
    "        #(1.0 /(i + 1)) ノイズ\n",
    "        a = np.argmax(Q[s,:] + np.random.randn(1, env.action_space.n) * (1.0 /(i + 1)))\n",
    "        \n",
    "        #s1;新しいステータス：場所、報酬、落ちているかいないかをアクションを与えて更新する\n",
    "        s1, r, d, _ = env.step(a)\n",
    "\n",
    "        #Ｑ値を更新する\n",
    "        #step前のs:場所とa:actionの値を以下で更新(ざっくり)\n",
    "        #step前の値 + ステップ後の一番いけてそうな奴\n",
    "        Q[s,a] = Q[s,a] + lr * (r + y*np.max(Q[s1,:]) - Q[s,a])\n",
    "        #各種更新\n",
    "        rAll += r\n",
    "        s = s1\n",
    "        #穴に落ちたら終了\n",
    "        if d == True:\n",
    "            break\n",
    "    #100回分を１回として累積和を一覧に追加する\n",
    "    rList.append(rAll)"
   ]
  },
  {
   "cell_type": "code",
   "execution_count": null,
   "metadata": {},
   "outputs": [],
   "source": [
    "print(\"回数毎の結果\",str(sum(rList)/num_episodes))"
   ]
  }
 ],
 "metadata": {
  "kernelspec": {
   "display_name": "Python 3",
   "language": "python",
   "name": "python3"
  },
  "language_info": {
   "codemirror_mode": {
    "name": "ipython",
    "version": 3
   },
   "file_extension": ".py",
   "mimetype": "text/x-python",
   "name": "python",
   "nbconvert_exporter": "python",
   "pygments_lexer": "ipython3",
   "version": "3.6.3"
  }
 },
 "nbformat": 4,
 "nbformat_minor": 2
}

