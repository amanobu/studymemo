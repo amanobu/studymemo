{
 "cells": [
  {
   "cell_type": "code",
   "execution_count": null,
   "metadata": {
    "collapsed": true
   },
   "outputs": [],
   "source": [
    "from tensorflow.examples.tutorials.mnist import input_data"
   ]
  },
  {
   "cell_type": "code",
   "execution_count": null,
   "metadata": {},
   "outputs": [],
   "source": [
    "mnist = input_data.read_data_sets('MNIST_data',one_hot=True)"
   ]
  },
  {
   "cell_type": "code",
   "execution_count": null,
   "metadata": {
    "collapsed": true
   },
   "outputs": [],
   "source": [
    "import tensorflow as tf"
   ]
  },
  {
   "cell_type": "code",
   "execution_count": null,
   "metadata": {
    "collapsed": true
   },
   "outputs": [],
   "source": [
    "sess = tf.InteractiveSession() #式の作成と実行を交互に行うのでこれを指定する"
   ]
  },
  {
   "cell_type": "code",
   "execution_count": null,
   "metadata": {
    "collapsed": true
   },
   "outputs": [],
   "source": [
    "#器の用意\n",
    "x = tf.placeholder(tf.float32, shape = [None, 784])\n",
    "y_ = tf.placeholder(tf.float32, shape = [None, 10])"
   ]
  },
  {
   "cell_type": "code",
   "execution_count": null,
   "metadata": {
    "collapsed": true
   },
   "outputs": [],
   "source": [
    "#重み。行列を渡すと初期化して返す\n",
    "def weight_variable(shape):\n",
    "    #truncated_normal:正規分布の左右を切り取ったもののイメージ\n",
    "    #stddev:標準偏差\n",
    "    initial = tf.truncated_normal(shape,stddev=0.1)\n",
    "    return tf.Variable(initial)"
   ]
  },
  {
   "cell_type": "code",
   "execution_count": null,
   "metadata": {
    "collapsed": true
   },
   "outputs": [],
   "source": [
    "#バイアス\n",
    "def bias_variable(shape):\n",
    "    #0だと計算が進まないのでバイアス値は少し\n",
    "    initial = tf.constant(0.1, shape=shape)\n",
    "    return tf.Variable(initial)"
   ]
  },
  {
   "cell_type": "code",
   "execution_count": null,
   "metadata": {
    "collapsed": true
   },
   "outputs": [],
   "source": [
    "#たたみ込み処理の定義\n",
    "def conv2d(x, W):\n",
    "    #strides = [1,1,1,1]:1pix毎に処理する事\n",
    "    #padding = 'SAME':左右に0を足したものにする\n",
    "    #畳込みを行う関数:tf.nn.conv2d\n",
    "    return tf.nn.conv2d(x, W, strides = [1,1,1,1], padding = 'SAME')"
   ]
  },
  {
   "cell_type": "code",
   "execution_count": null,
   "metadata": {
    "collapsed": true
   },
   "outputs": [],
   "source": [
    "#たたみ込んだ画像をsizeを小さくして特徴を抽出。一番sizeの大きなデータをかえす\n",
    "def max_pool_2x2(x):\n",
    "    #ksize適用数範囲2*2\n",
    "    #strides 2*2ずらして処理\n",
    "    return tf.nn.max_pool(x, ksize = [1,2,2,1], strides = [1,2,2,1], padding = 'SAME')"
   ]
  },
  {
   "cell_type": "code",
   "execution_count": null,
   "metadata": {},
   "outputs": [],
   "source": [
    "#NNを記載していく\n",
    "#1層目\n",
    "#重みというかFilter。5*5の画像に1個のデータが32枚\n",
    "W_conv1 = weight_variable([5, 5, 1, 32])\n",
    "#bias\n",
    "b_conv1 = bias_variable([32])\n",
    "#入力画像の格納。-1は実行時に自動的に値を設定してくれるらしい\n",
    "x_image = tf.reshape(x, [-1, 28, 28, 1])\n",
    "#フィルタをかけた値にReLUの変換をした値\n",
    "h_conv1 = tf.nn.relu(conv2d(x_image, W_conv1) + b_conv1)\n",
    "#プーリング。次元圧縮。今回はMax poolingを採用\n",
    "h_pool1 = max_pool_2x2(h_conv1)"
   ]
  },
  {
   "cell_type": "code",
   "execution_count": null,
   "metadata": {
    "collapsed": true
   },
   "outputs": [],
   "source": [
    "#2層目\n",
    "#Filter\n",
    "W_conv2 = weight_variable([5,5,32,64])\n",
    "b_conv2 = bias_variable([64])\n",
    "#一層目の値を上の値をReLUにかける\n",
    "h_conv2 = tf.nn.relu(conv2d(h_pool1,W_conv2) + b_conv2)\n",
    "#プーリング\n",
    "h_pool2 = max_pool_2x2(h_conv2)"
   ]
  },
  {
   "cell_type": "code",
   "execution_count": null,
   "metadata": {
    "collapsed": true
   },
   "outputs": [],
   "source": [
    "#全結合層\n",
    "W_fc1 = weight_variable([7 * 7 * 64, 1024])\n",
    "b_fc1 = bias_variable([1024])\n",
    "h_pool2_flat = tf.reshape(h_pool2, [-1, 7 * 7 * 64])\n",
    "\n",
    "h_fc1 = tf.nn.relu(tf.matmul(h_pool2_flat, W_fc1) + b_fc1)"
   ]
  },
  {
   "cell_type": "code",
   "execution_count": null,
   "metadata": {
    "collapsed": true
   },
   "outputs": [],
   "source": [
    "#dropout処理 オーバーフィッティングを避ける処理\n",
    "#それを避ける用の変数\n",
    "keep_prob = tf.placeholder(tf.float32)\n",
    "\n",
    "#dropout処理後の値を格納\n",
    "h_fc1_drop = tf.nn.dropout(h_fc1, keep_prob)"
   ]
  },
  {
   "cell_type": "code",
   "execution_count": null,
   "metadata": {
    "collapsed": true
   },
   "outputs": [],
   "source": [
    "#読み出し層\n",
    "#10:は10種類の意図\n",
    "W_fc2 = weight_variable([1024, 10])\n",
    "b_fc2 = bias_variable([10])\n",
    "\n",
    "y_conv = tf.matmul(h_fc1_drop, W_fc2) * b_fc2\n",
    "#ここまでで層の記載は完"
   ]
  },
  {
   "cell_type": "code",
   "execution_count": null,
   "metadata": {},
   "outputs": [],
   "source": [
    "#バックプロパゲーション準備の為の損失関数クロスエントロピーの定義\n",
    "cross_entropy = tf.reduce_mean(tf.nn.softmax_cross_entropy_with_logits(logits = y_conv, labels = y_))\n",
    "\n",
    "#AdamOptimizerってやつで最小化させる\n",
    "train_step = tf.train.AdamOptimizer(1e-4).minimize(cross_entropy)\n",
    "\n",
    "#正解の値\n",
    "#argmaxは一番大きい物をとってっくる：つまり確率の一番大きい物\n",
    "correct_rediction = tf.equal(tf.argmax(y_conv, 1), tf.argmax(y_, 1))\n",
    "\n",
    "#結果確認用\n",
    "accuracy = tf.reduce_mean(tf.cast(correct_rediction, tf.float32))\n",
    "\n",
    "#パラメータのリセット\n",
    "sess.run(tf.global_variables_initializer())\n",
    "\n",
    "for i in range (200):\n",
    "    #トレーニングデータからランダムに50個データを持ってくる\n",
    "    batch = mnist.train.next_batch(50)\n",
    "    \n",
    "    #100エポック事に結果を出力\n",
    "    if i%100 == 0:\n",
    "        train_accuracy = accuracy.eval(feed_dict = {x:batch[0], y_:batch[1], keep_prob:1.0})\n",
    "        print(\"step %d, traning accuracy %g\"%(1, train_accuracy))\n",
    "    #トレーニング\n",
    "    train_step.run(feed_dict = {x:batch[0], y_:batch[1], keep_prob:0.5})\n",
    "\n",
    "print(\"test accuracy %g\"%accuracy.eval(feed_dict = {x:mnist.test.images, y_:mnist.test.labels, keep_prob:1.0}))"
   ]
  },
  {
   "cell_type": "code",
   "execution_count": null,
   "metadata": {
    "collapsed": true
   },
   "outputs": [],
   "source": []
  }
 ],
 "metadata": {
  "kernelspec": {
   "display_name": "Python 3",
   "language": "python",
   "name": "python3"
  },
  "language_info": {
   "codemirror_mode": {
    "name": "ipython",
    "version": 3
   },
   "file_extension": ".py",
   "mimetype": "text/x-python",
   "name": "python",
   "nbconvert_exporter": "python",
   "pygments_lexer": "ipython3",
   "version": "3.6.2"
  }
 },
 "nbformat": 4,
 "nbformat_minor": 2
}
